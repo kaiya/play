{
 "cells": [
  {
   "cell_type": "code",
   "execution_count": 2,
   "metadata": {},
   "outputs": [],
   "source": [
    "xSlice = [1e8, 1e9, 1e10, 6*1e10, 6*1e11, 9*1e11]\n",
    "def N(i, xSlice):\n",
    "    if i == 0:\n",
    "        return 1\n",
    "    return min(max(N(i-1, xSlice)+1, min(1.2*xSlice[i], 100*N(i-1, xSlice))), 1e9)\n",
    "y = []\n",
    "for i in range(len(xSlice)):\n",
    "    y.append(N(i, xSlice=xSlice))"
   ]
  },
  {
   "cell_type": "code",
   "execution_count": null,
   "metadata": {},
   "outputs": [],
   "source": [
    "import matplotlib.pyplot as plt\n",
    "\n",
    "plt.plot(xSlice,y)\n",
    "plt.ylabel('benchmark N with benchtime in nano')\n",
    "plt.show()"
   ]
  },
  {
   "cell_type": "code",
   "execution_count": 10,
   "metadata": {},
   "outputs": [],
   "source": [
    "import consul\n",
    "c = consul.Consul().catalog.service(\"consul\")"
   ]
  },
  {
   "cell_type": "code",
   "execution_count": 11,
   "metadata": {},
   "outputs": [
    {
     "data": {
      "text/plain": [
       "('13',\n",
       " [{'ID': '3d7668a4-8939-749a-a04d-f56f8a41514d',\n",
       "   'Node': 'kaiyasminiconsul',\n",
       "   'Address': '127.0.0.1',\n",
       "   'Datacenter': 'dc1',\n",
       "   'TaggedAddresses': {'lan': '127.0.0.1',\n",
       "    'lan_ipv4': '127.0.0.1',\n",
       "    'wan': '127.0.0.1',\n",
       "    'wan_ipv4': '127.0.0.1'},\n",
       "   'NodeMeta': {'consul-network-segment': ''},\n",
       "   'ServiceKind': '',\n",
       "   'ServiceID': 'consul',\n",
       "   'ServiceName': 'consul',\n",
       "   'ServiceTags': [],\n",
       "   'ServiceAddress': '',\n",
       "   'ServiceWeights': {'Passing': 1, 'Warning': 1},\n",
       "   'ServiceMeta': {'non_voter': 'false',\n",
       "    'raft_version': '3',\n",
       "    'read_replica': 'false',\n",
       "    'serf_protocol_current': '2',\n",
       "    'serf_protocol_max': '5',\n",
       "    'serf_protocol_min': '1',\n",
       "    'version': '1.11.1'},\n",
       "   'ServicePort': 8300,\n",
       "   'ServiceSocketPath': '',\n",
       "   'ServiceEnableTagOverride': False,\n",
       "   'ServiceProxy': {'Mode': '', 'MeshGateway': {}, 'Expose': {}},\n",
       "   'ServiceConnect': {},\n",
       "   'CreateIndex': 12,\n",
       "   'ModifyIndex': 12}])"
      ]
     },
     "execution_count": 11,
     "metadata": {},
     "output_type": "execute_result"
    }
   ],
   "source": [
    "c"
   ]
  }
 ],
 "metadata": {
  "kernelspec": {
   "display_name": "Python 3",
   "language": "python",
   "name": "python3"
  },
  "language_info": {
   "codemirror_mode": {
    "name": "ipython",
    "version": 3
   },
   "file_extension": ".py",
   "mimetype": "text/x-python",
   "name": "python",
   "nbconvert_exporter": "python",
   "pygments_lexer": "ipython3",
   "version": "3.10.7"
  },
  "orig_nbformat": 4,
  "vscode": {
   "interpreter": {
    "hash": "b0fa6594d8f4cbf19f97940f81e996739fb7646882a419484c72d19e05852a7e"
   }
  }
 },
 "nbformat": 4,
 "nbformat_minor": 2
}
